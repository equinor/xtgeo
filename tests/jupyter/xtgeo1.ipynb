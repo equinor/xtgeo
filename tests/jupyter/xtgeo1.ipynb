{
 "cells": [
  {
   "cell_type": "code",
   "execution_count": 1,
   "metadata": {},
   "outputs": [],
   "source": [
    "import xtgeo"
   ]
  },
  {
   "cell_type": "markdown",
   "metadata": {},
   "source": [
    "# Grid section\n",
    "Testing basic grid stuff"
   ]
  },
  {
   "cell_type": "code",
   "execution_count": 2,
   "metadata": {},
   "outputs": [],
   "source": [
    "reekfile = \"../xtgeo-testdata/3dgrids/reek/REEK.EGRID\"\n",
    "reekgrid = xtgeo.grid3d.Grid(reekfile)"
   ]
  },
  {
   "cell_type": "code",
   "execution_count": 3,
   "metadata": {},
   "outputs": [
    {
     "name": "stdout",
     "output_type": "stream",
     "text": [
      "===================================================================================================\n",
      "Description of Grid instance\n",
      "===================================================================================================\n",
      "Object ID                                => 139680471076816\n",
      "File source                              => ../xtgeo-testdata/3dgrids/reek/REEK.EGRID\n",
      "Shape: NCOL, NROW, NLAY                  => 40  64  14\n",
      "Number of active cells                   => 35838\n",
      "Attached grid props (objects)            => None\n",
      "===================================================================================================\n"
     ]
    }
   ],
   "source": [
    "reekgrid.describe()"
   ]
  },
  {
   "cell_type": "code",
   "execution_count": 9,
   "metadata": {},
   "outputs": [
    {
     "data": {
      "text/plain": [
       "array([    0,     1,     2, ..., 35837, 35838, 35839])"
      ]
     },
     "execution_count": 9,
     "metadata": {},
     "output_type": "execute_result"
    }
   ],
   "source": [
    "reekgrid.get_actnum_indices()"
   ]
  },
  {
   "cell_type": "markdown",
   "metadata": {},
   "source": [
    "## Grid geometrical stuff"
   ]
  },
  {
   "cell_type": "code",
   "execution_count": 19,
   "metadata": {},
   "outputs": [
    {
     "name": "stdout",
     "output_type": "stream",
     "text": [
      "3.278807731137504\n",
      "3.27875137925148\n",
      "160.61955019376296\n",
      "158.58524792126784\n"
     ]
    }
   ],
   "source": [
    "dz = reekgrid.get_dz()\n",
    "print(dz.values.mean())\n",
    "dz = reekgrid.get_dz(mask=False)\n",
    "print(dz.values.mean())\n",
    "dx, dy = reekgrid.get_dxdy()\n",
    "print(dx.values.mean())\n",
    "print(dy.values.mean())"
   ]
  },
  {
   "cell_type": "code",
   "execution_count": 17,
   "metadata": {},
   "outputs": [
    {
     "name": "stdout",
     "output_type": "stream",
     "text": [
      "[[[1 1 1 ... 1 1 1]\n",
      "  [1 1 1 ... 1 1 1]\n",
      "  [1 1 1 ... 1 1 1]\n",
      "  ...\n",
      "  [1 1 1 ... 1 1 1]\n",
      "  [1 1 1 ... 1 1 1]\n",
      "  [1 1 1 ... 1 1 1]]\n",
      "\n",
      " [[2 2 2 ... 2 2 2]\n",
      "  [2 2 2 ... 2 2 2]\n",
      "  [2 2 2 ... 2 2 2]\n",
      "  ...\n",
      "  [2 2 2 ... 2 2 2]\n",
      "  [2 2 2 ... 2 2 2]\n",
      "  [2 2 2 ... 2 2 2]]\n",
      "\n",
      " [[3 3 3 ... 3 3 3]\n",
      "  [3 3 3 ... 3 3 3]\n",
      "  [3 3 3 ... 3 3 3]\n",
      "  ...\n",
      "  [3 3 3 ... 3 3 3]\n",
      "  [3 3 3 ... 3 3 3]\n",
      "  [3 3 3 ... 3 3 3]]\n",
      "\n",
      " ...\n",
      "\n",
      " [[38 38 38 ... 38 38 38]\n",
      "  [38 38 38 ... 38 38 38]\n",
      "  [38 38 38 ... 38 38 38]\n",
      "  ...\n",
      "  [38 38 38 ... 38 38 38]\n",
      "  [38 38 38 ... 38 38 38]\n",
      "  [38 38 38 ... 38 38 38]]\n",
      "\n",
      " [[39 39 39 ... 39 39 39]\n",
      "  [39 39 39 ... 39 39 39]\n",
      "  [39 39 39 ... 39 39 39]\n",
      "  ...\n",
      "  [39 39 39 ... 39 39 39]\n",
      "  [39 39 39 ... 39 39 39]\n",
      "  [39 39 39 ... 39 39 39]]\n",
      "\n",
      " [[40 40 40 ... 40 40 40]\n",
      "  [40 40 40 ... 40 40 40]\n",
      "  [40 40 40 ... 40 40 40]\n",
      "  ...\n",
      "  [40 40 40 ... 40 40 40]\n",
      "  [40 40 40 ... 40 40 40]\n",
      "  [40 40 40 ... 40 40 40]]]\n",
      "[[[1 1 1 ... 1 1 1]\n",
      "  [2 2 2 ... 2 2 2]\n",
      "  [3 3 3 ... 3 3 3]\n",
      "  ...\n",
      "  [62 62 62 ... 62 62 62]\n",
      "  [63 63 63 ... 63 63 63]\n",
      "  [64 64 64 ... 64 64 64]]\n",
      "\n",
      " [[1 1 1 ... 1 1 1]\n",
      "  [2 2 2 ... 2 2 2]\n",
      "  [3 3 3 ... 3 3 3]\n",
      "  ...\n",
      "  [62 62 62 ... 62 62 62]\n",
      "  [63 63 63 ... 63 63 63]\n",
      "  [64 64 64 ... 64 64 64]]\n",
      "\n",
      " [[1 1 1 ... 1 1 1]\n",
      "  [2 2 2 ... 2 2 2]\n",
      "  [3 3 3 ... 3 3 3]\n",
      "  ...\n",
      "  [62 62 62 ... 62 62 62]\n",
      "  [63 63 63 ... 63 63 63]\n",
      "  [64 64 64 ... 64 64 64]]\n",
      "\n",
      " ...\n",
      "\n",
      " [[1 1 1 ... 1 1 1]\n",
      "  [2 2 2 ... 2 2 2]\n",
      "  [3 3 3 ... 3 3 3]\n",
      "  ...\n",
      "  [62 62 62 ... 62 62 62]\n",
      "  [63 63 63 ... 63 63 63]\n",
      "  [64 64 64 ... 64 64 64]]\n",
      "\n",
      " [[1 1 1 ... 1 1 1]\n",
      "  [2 2 2 ... 2 2 2]\n",
      "  [3 3 3 ... 3 3 3]\n",
      "  ...\n",
      "  [62 62 62 ... 62 62 62]\n",
      "  [63 63 63 ... 63 63 63]\n",
      "  [64 64 64 ... 64 64 64]]\n",
      "\n",
      " [[1 1 1 ... 1 1 1]\n",
      "  [2 2 2 ... 2 2 2]\n",
      "  [3 3 3 ... 3 3 3]\n",
      "  ...\n",
      "  [62 62 62 ... 62 62 62]\n",
      "  [63 63 63 ... 63 63 63]\n",
      "  [64 64 64 ... 64 64 64]]]\n",
      "[[[1 2 3 ... 12 13 14]\n",
      "  [1 2 3 ... 12 13 14]\n",
      "  [1 2 3 ... 12 13 14]\n",
      "  ...\n",
      "  [1 2 3 ... 12 13 14]\n",
      "  [1 2 3 ... 12 13 14]\n",
      "  [1 2 3 ... 12 13 14]]\n",
      "\n",
      " [[1 2 3 ... 12 13 14]\n",
      "  [1 2 3 ... 12 13 14]\n",
      "  [1 2 3 ... 12 13 14]\n",
      "  ...\n",
      "  [1 2 3 ... 12 13 14]\n",
      "  [1 2 3 ... 12 13 14]\n",
      "  [1 2 3 ... 12 13 14]]\n",
      "\n",
      " [[1 2 3 ... 12 13 14]\n",
      "  [1 2 3 ... 12 13 14]\n",
      "  [1 2 3 ... 12 13 14]\n",
      "  ...\n",
      "  [1 2 3 ... 12 13 14]\n",
      "  [1 2 3 ... 12 13 14]\n",
      "  [1 2 3 ... 12 13 14]]\n",
      "\n",
      " ...\n",
      "\n",
      " [[1 2 3 ... 12 13 14]\n",
      "  [1 2 3 ... 12 13 14]\n",
      "  [1 2 3 ... 12 13 14]\n",
      "  ...\n",
      "  [1 2 3 ... 12 13 14]\n",
      "  [1 2 3 ... 12 13 14]\n",
      "  [1 2 3 ... 12 13 14]]\n",
      "\n",
      " [[1 2 3 ... 12 13 14]\n",
      "  [1 2 3 ... 12 13 14]\n",
      "  [1 2 3 ... 12 13 14]\n",
      "  ...\n",
      "  [1 2 3 ... 12 13 14]\n",
      "  [1 2 3 ... 12 13 14]\n",
      "  [1 2 3 ... 12 13 14]]\n",
      "\n",
      " [[1 2 3 ... 12 13 14]\n",
      "  [1 2 3 ... 12 13 14]\n",
      "  [1 2 3 ... 12 13 14]\n",
      "  ...\n",
      "  [1 2 3 ... 12 13 14]\n",
      "  [1 2 3 ... 12 13 14]\n",
      "  [1 2 3 ... 12 13 14]]]\n"
     ]
    }
   ],
   "source": [
    "ix, jy, kz = reekgrid.get_ijk()\n",
    "print(ix.values)\n",
    "print(jy.values)\n",
    "print(kz.values)"
   ]
  },
  {
   "cell_type": "code",
   "execution_count": null,
   "metadata": {},
   "outputs": [],
   "source": []
  }
 ],
 "metadata": {
  "kernelspec": {
   "display_name": "Python 2",
   "language": "python",
   "name": "python2"
  },
  "language_info": {
   "codemirror_mode": {
    "name": "ipython",
    "version": 2
   },
   "file_extension": ".py",
   "mimetype": "text/x-python",
   "name": "python",
   "nbconvert_exporter": "python",
   "pygments_lexer": "ipython2",
   "version": "2.7.12"
  }
 },
 "nbformat": 4,
 "nbformat_minor": 2
}
